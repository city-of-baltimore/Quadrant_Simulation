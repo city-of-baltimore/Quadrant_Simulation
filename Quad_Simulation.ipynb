{
 "cells": [
  {
   "cell_type": "code",
   "execution_count": 9,
   "metadata": {},
   "outputs": [],
   "source": [
    "import numpy as np\n",
    "import pandas as pd\n",
    "import pyodbc\n",
    "import seaborn as sns\n",
    "from datetime import datetime\n",
    "import datetime as dt\n",
    "import matplotlib.pyplot as plt\n",
    "import math\n",
    "from pandas.plotting import register_matplotlib_converters\n",
    "register_matplotlib_converters()\n",
    "#from bokeh.io import output_notebook, show, curdoc, output_file,push_notebook\n",
    "#from bokeh.layouts import widgetbox, row\n",
    "#from bokeh.plotting import figure\n",
    "#from bokeh.models import HoverTool, ColumnDataSource, Slider, CDSView, GroupFilter,BooleanFilter\n",
    "#from bokeh.transform import factor_cmap\n",
    "#from bokeh.palettes import all_palettes\n",
    "#from bokeh.models.widgets import TextInput\n",
    "\n",
    "online = 0\n",
    "if online == 1:\n",
    "    conn=pyodbc.connect('Driver={SQL Server};'\n",
    "                          'Server=balt-sql-fc;'\n",
    "                          'Database=CitiStat;'\n",
    "                          'Trusted_Connection=yes;')\n"
   ]
  },
  {
   "cell_type": "code",
   "execution_count": 4,
   "metadata": {},
   "outputs": [],
   "source": [
    "def due_date(create_date,sla):\n",
    "    due = dt.datetime.strptime(create_date, '%Y-%m-%d').date() + dt.timedelta(days=sla)\n",
    "    return str(due)\n",
    "def lower_str(text):\n",
    "    return text.lower()\n",
    "def textstr2date(text):\n",
    "    if pd.notnull(text):\n",
    "        new_str=str(text)[0:10]\n",
    "    else:\n",
    "        new_str = text\n",
    "    return new_str\n",
    "def oopen(data_inp,date_comp):\n",
    "    #COUNTS NUMBER OPEN\n",
    "    count_close=len(data_inp[(data_inp['Date_Create']<date_comp)&((data_inp['Status'].apply(lower_str).str.contains('close'))&(data_inp['Date_Finish']>date_comp))])\n",
    "    count_cancel=len(data_inp[(data_inp['Date_Create']<date_comp)&((data_inp['Status'].apply(lower_str).str.contains('cancel'))&(data_inp['Date_Finish']>date_comp))])\n",
    "    count_new =len(data_inp[(data_inp['Date_Create']<date_comp)&(data_inp['Status'].apply(lower_str).str.contains('new'))])\n",
    "    counter=count_close+count_new#+count_cancel\n",
    "    #Doesn't count PENDING\n",
    "    return counter\n",
    "\n",
    "def oover(data_inp,date_comp):\n",
    "    #COUNTS NUMBER OPEN\n",
    "    count_close=len(data_inp[(data_inp['Due_date']<date_comp)&((data_inp['Status'].apply(lower_str).str.contains('close'))&(data_inp['Date_Finish']>date_comp))])\n",
    "    count_cancel=len(data_inp[(data_inp['Due_date']<date_comp)&((data_inp['Status'].apply(lower_str).str.contains('cancel'))&(data_inp['Date_Finish']>date_comp))])\n",
    "    count_new =len(data_inp[(data_inp['Due_date']<date_comp)&(data_inp['Status'].apply(lower_str).str.contains('new'))])\n",
    "    counter=count_close+count_new#+count_cancel\n",
    "    #Doesn't count PENDING\n",
    "    return counter\n",
    "\n",
    "def days_between(d1, d2):\n",
    "    d1 = dt.datetime.strptime(d1, \"%Y-%m-%d\")\n",
    "    d2 = dt.datetime.strptime(d2, \"%Y-%m-%d\")\n",
    "    return abs((d2 - d1).days)\n",
    "\n",
    "def absence(absence_rate,no_crews):\n",
    "    a = np.random.binomial(1, absence_rate, no_crews)\n",
    "    return a\n",
    "\n",
    "def wo_creation(date,quad):\n",
    "    month = date.month\n",
    "    avg_work = wo_creation_hist.loc[(wo_creation_hist['quad']==quad)&(wo_creation_hist['month']==month),'avg_wo'].values[0]\n",
    "    sd_work = wo_creation_hist.loc[(wo_creation_hist['quad']==quad)&(wo_creation_hist['month']==month),'sd_wo'].values[0]\n",
    "    wo = math.ceil(np.random.normal(avg_work,sd_work))\n",
    "    return wo\n",
    "def add_years(d, years):\n",
    "    \"\"\"Return a date that's `years` years after the date (or datetime)\n",
    "    object `d`. Return the same calendar date (month and day) in the\n",
    "    destination year, if it exists, otherwise use the following day\n",
    "    (thus changing February 29 to March 1).\n",
    "\n",
    "    \"\"\"\n",
    "    try:\n",
    "        return d.replace(year = d.year + years)\n",
    "    except ValueError:\n",
    "        return d + (date(d.year + years, 1, 1) - date(d.year, 1, 1))"
   ]
  },
  {
   "cell_type": "code",
   "execution_count": 24,
   "metadata": {},
   "outputs": [],
   "source": [
    "quads = ['NE','NW','SE','SW']\n",
    "data_quad=pd.DataFrame({\n",
    "    'quad'       : quads,\n",
    "    'crew_size'  : [0,4,3,8],\n",
    "    'rate' : [12,12,12,12],\n",
    "    #'worksite_diff' : [1,0.8,1.2,0.75],\n",
    "    'worksite_diff' : [1,1,1,1],\n",
    "    #'absence_rate': [0.9,0.83,0.9,0.78]\n",
    "    'absence_rate': [1,1,1,1]\n",
    "})\n",
    "\n",
    "working_days = 6"
   ]
  },
  {
   "cell_type": "code",
   "execution_count": 25,
   "metadata": {},
   "outputs": [],
   "source": [
    "if online == 1:\n",
    "    init_back =  pd.read_sql('''select quad, \n",
    "    count([Record ID]) as backlog\n",
    "    from (select [Record ID], \n",
    "        case when [Status] like 'CLOSE%' then 'Closed'\n",
    "                when [Status] like 'CANCEL%' then 'Cancelled'\n",
    "                WHEN [Date Finish] is null THEN 'Open'\n",
    "                end as complete_status,\n",
    "                [Clean Size],\n",
    "        case when [Solid Waste Quadrant] = 'NORTHEAST' THEN 'NE'\n",
    "            WHEN [Solid Waste Quadrant] = 'NORTHWEST' THEN 'NW'\n",
    "            WHEN [Solid Waste Quadrant] = 'SOUTHEAST' THEN 'SE'\n",
    "            WHEN [Solid Waste Quadrant] = 'SOUTHWEST' THEN 'SW'\n",
    "            END AS\tquad\n",
    "    from CitiStat.dbo.CHIP_WorkOrders\n",
    "    where 1=1\n",
    "    and [Work Order Type]='Cleaning'\n",
    "    and [Date Finish] is null\n",
    "    and [Solid Waste Quadrant] in ('NORTHEAST','SOUTHEAST','SOUTHWEST','NORTHWEST')\n",
    "    ) foo\n",
    "    where 1=1\n",
    "    group by quad\n",
    "    ''',conn)\n",
    "    init_back.to_csv('initial_backlog.csv')\n",
    "    \n",
    "    wo_creation_hist = pd.read_sql('''\n",
    "    select month(date_create) month, quad, avg(wo_count) avg_wo, stdev(wo_count) sd_wo\n",
    "    from\n",
    "    (select [date_create], quad, count([Record ID]) wo_count\n",
    "    from (\n",
    "    select  [Record ID], \n",
    "            cast([Date Create] as DATE) as date_create,\n",
    "            [Clean Size],\n",
    "        case when [Solid Waste Quadrant] = 'NORTHEAST' THEN 'NE'\n",
    "            WHEN [Solid Waste Quadrant] = 'NORTHWEST' THEN 'NW'\n",
    "            WHEN [Solid Waste Quadrant] = 'SOUTHEAST' THEN 'SE'\n",
    "            WHEN [Solid Waste Quadrant] = 'SOUTHWEST' THEN 'SW'\n",
    "            END AS\tquad\n",
    "    from CitiStat.dbo.CHIP_WorkOrders\n",
    "    where 1=1\n",
    "    and [Work Order Type]='Cleaning'\n",
    "    and [Date Create] between '2019-01-01' and '2020-01-01'\n",
    "    and [Solid Waste Quadrant] in ('NORTHEAST','SOUTHEAST','SOUTHWEST','NORTHWEST')\n",
    "    ) foo\n",
    "    where 1=1\n",
    "    group by date_create, quad\n",
    "    ) foo\n",
    "    where 1=1\n",
    "    --and wo_count > 10\n",
    "    group by month(date_create),quad\n",
    "    order by month, quad''',conn)\n",
    "    wo_creation_hist.to_csv('historical_creation.csv')\n",
    "    \n",
    "    wo_crew_rate = pd.read_sql('''\n",
    "    select month(date_finish) month, \n",
    "            --quad,\n",
    "            --clean_size,\n",
    "            avg(crew_count) avg_crew,\n",
    "            avg(wo_count) avg_wo, \n",
    "            stdev(wo_count) sd_wo,\n",
    "            avg(wo_count)/avg(crew_count) avg_rate\n",
    "    from\n",
    "    (\n",
    "    select [date_finish], \n",
    "            --quad,\n",
    "            --clean_size,\n",
    "            count(distinct crew_name) as crew_count,\n",
    "            count([Record ID]) wo_count,\n",
    "            count([Record ID])/count(distinct crew_name) as rate\n",
    "    from (\n",
    "    select  [Record ID], \n",
    "            cast([Date Finish] as DATE) as date_finish,\n",
    "            [Clean Size] as clean_size,\n",
    "            [Crew Name] as crew_name,\n",
    "        case when [Solid Waste Quadrant] = 'NORTHEAST' THEN 'NE'\n",
    "            WHEN [Solid Waste Quadrant] = 'NORTHWEST' THEN 'NW'\n",
    "            WHEN [Solid Waste Quadrant] = 'SOUTHEAST' THEN 'SE'\n",
    "            WHEN [Solid Waste Quadrant] = 'SOUTHWEST' THEN 'SW'\n",
    "            END AS\tquad\n",
    "    from CitiStat.dbo.CHIP_WorkOrders\n",
    "    where 1=1\n",
    "    and [Work Order Type]='Cleaning'\n",
    "    and [Date Finish] between '2019-01-01' and '2020-01-01'\n",
    "    and [Solid Waste Quadrant] in ('NORTHEAST','SOUTHEAST','SOUTHWEST','NORTHWEST')\n",
    "    and lower([Status]) like 'close%'\n",
    "    ) foo\n",
    "    where 1=1\n",
    "    group by date_finish--, clean_size--, quad\n",
    "    ) foo\n",
    "    where 1=1\n",
    "    and wo_count > 30\n",
    "    group by month(date_finish)--,clean_size--,quad\n",
    "    order by month--,clean_size--, quad\n",
    "    ''', conn)\n",
    "    wo_crew_rate.to_csv('wo_crew_rate.csv')\n",
    "if online == 0:\n",
    "    init_back = pd.read_csv('initial_backlog.csv')\n",
    "    wo_creation_hist = pd.read_csv('historical_creation.csv')\n",
    "    wo_crew_rate = pd.read_csv('wo_crew_rate.csv')"
   ]
  },
  {
   "cell_type": "code",
   "execution_count": 26,
   "metadata": {},
   "outputs": [],
   "source": [
    "data_quad = data_quad.merge(init_back,how='left', on ='quad' )"
   ]
  },
  {
   "cell_type": "code",
   "execution_count": 27,
   "metadata": {
    "scrolled": true
   },
   "outputs": [],
   "source": [
    "dates =  pd.to_datetime(datetime.today().strftime('%Y-%m-%d')) + pd.to_timedelta(np.arange(96), 'D')"
   ]
  },
  {
   "cell_type": "markdown",
   "metadata": {},
   "source": [
    "### Quad System Calculation"
   ]
  },
  {
   "cell_type": "code",
   "execution_count": 28,
   "metadata": {
    "scrolled": true
   },
   "outputs": [],
   "source": [
    "quad_backlog = pd.DataFrame(dates)\n",
    "quad_backlog.columns = ['Date']\n",
    "add_wo = 1\n",
    "for j in quads:\n",
    "    temp = data_quad[data_quad['quad']==j].reset_index()\n",
    "    backlog = temp['backlog'].values[0]\n",
    "    quad_sys_backlog = [backlog]\n",
    "    for i in range(1,len(dates)):\n",
    "        if add_wo == 1:\n",
    "            work_created = wo_creation(quad_backlog.loc[i,'Date'],j)\n",
    "        elif add_wo == 0:\n",
    "            work_created = 0\n",
    "        if quad_backlog.loc[i,'Date'].weekday() < working_days:\n",
    "            crews4day= absence(temp['absence_rate'],temp['crew_size'])\n",
    "            month = quad_backlog.loc[i,'Date'].month\n",
    "            #crew_rate = wo_crew_rate.loc[wo_crew_rate['month']==month,'avg_rate'].values\n",
    "            crew_rate = 12\n",
    "            work_completed = sum(crews4day*crew_rate)*temp['worksite_diff'].values[0]\n",
    "            backlog = backlog-work_completed+work_created\n",
    "            if backlog < 0:\n",
    "                backlog=0\n",
    "            quad_sys_backlog.append(backlog)\n",
    "        else:\n",
    "            backlog = backlog+work_created\n",
    "            quad_sys_backlog.append(backlog)\n",
    "    quad_backlog[j] = quad_sys_backlog\n",
    "quad_backlog['Total'] = quad_backlog['NE']+quad_backlog['SE']+quad_backlog['SW']+quad_backlog['NW']"
   ]
  },
  {
   "cell_type": "code",
   "execution_count": 29,
   "metadata": {},
   "outputs": [
    {
     "data": {
      "image/png": "[encoded data removed]",
      "text/plain": [
       "<Figure size 432x288 with 1 Axes>"
      ]
     },
     "metadata": {
      "needs_background": "light"
     },
     "output_type": "display_data"
    }
   ],
   "source": [
    "fig = plt.figure()\n",
    "ax = plt.subplot(111)\n",
    "\n",
    "for i in ['SE','NE','SW','NW','Total']:\n",
    "    if i == 'Total':\n",
    "        ax.plot(quad_backlog['Date'],quad_backlog[i])\n",
    "    else:\n",
    "        ax.plot(quad_backlog['Date'],quad_backlog[i],alpha = .5)\n",
    "#plt.plot(df_clean.loc[df_clean['Date']>'2019-01-01','Date'],df_clean.loc[df_clean['Date']>'2019-01-01','Open_WO'])\n",
    "# Shrink current axis by 20%\n",
    "box = ax.get_position()\n",
    "ax.set_position([box.x0, box.y0, box.width * 0.8, box.height])\n",
    "plt.title(\"Backlog Size- Quadrant System\")\n",
    "plt.ylabel(\"Backlog Size\")\n",
    "plt.xlabel(\"Date\")\n",
    "plt.xticks(rotation=45) \n",
    "\n",
    "# Put a legend to the right of the current axis\n",
    "ax.legend(['SE','NE','SW','NW','Total'],title= 'Quadrant',loc='center left', bbox_to_anchor=(1, 0.5))\n",
    "\n",
    "plt.show()"
   ]
  },
  {
   "cell_type": "markdown",
   "metadata": {},
   "source": [
    "### Total System Calculation"
   ]
  },
  {
   "cell_type": "code",
   "execution_count": 120,
   "metadata": {
    "scrolled": true
   },
   "outputs": [],
   "source": [
    "total_backlog = pd.DataFrame(dates)\n",
    "total_backlog.columns = ['Date']\n",
    "total_backlog['NE'], total_backlog['NW'],total_backlog['SE'],total_backlog['SW'] = np.nan,np.nan,np.nan,np.nan\n",
    "total_backlog.loc[0,'NE'] = data_quad.loc[data_quad['quad']=='NE','backlog'].values\n",
    "total_backlog.loc[0,'NW'] = data_quad.loc[data_quad['quad']=='NW','backlog'].values\n",
    "total_backlog.loc[0,'SE'] = data_quad.loc[data_quad['quad']=='SE','backlog'].values\n",
    "total_backlog.loc[0,'SW'] = data_quad.loc[data_quad['quad']=='SW','backlog'].values\n",
    "tot_order =['NW','SW','NE','SW','SE','SW']\n",
    "work_days = len(tot_order)\n",
    "add_wo = 1\n",
    "order=0\n",
    "for i in range(1,len(dates)):\n",
    "#for i in range(1,8):\n",
    "    workbycrew = 0\n",
    "    for j in quads:\n",
    "        #print('Backlog before work created in '+ str(j)+ ' on ' + str(total_backlog.loc[i,'Date']) + ': ' + str(total_backlog.loc[i-1,j]))\n",
    "        month = total_backlog.loc[i,'Date'].month\n",
    "        crew_rate = wo_crew_rate.loc[wo_crew_rate['month']==month,'avg_rate'].values\n",
    "        workbycrew= workbycrew + sum(absence(data_quad.loc[data_quad['quad']==j,'absence_rate'].values,data_quad.loc[data_quad['quad']==j,'crew_size'].values) * crew_rate)\n",
    "        if add_wo == 1:\n",
    "            work_created = wo_creation(total_backlog.loc[i,'Date'],j)\n",
    "        elif add_wo == 0:\n",
    "            work_created = 0\n",
    "        #print('Work Created: '+ str(work_created))\n",
    "        total_backlog.loc[i,j] = total_backlog.loc[i-1,j]+work_created\n",
    "        #print('Backlog after work created in '+ str(j)+ ' on ' + str(total_backlog.loc[i,'Date']) + ': ' + str(total_backlog.loc[i,j]))\n",
    "    weekday = total_backlog.loc[i,'Date'].weekday()\n",
    "    if weekday < 5:\n",
    "        work_completed = workbycrew*data_quad.loc[data_quad['quad']==tot_order[order%len(tot_order)],'worksite_diff'].values\n",
    "        #print('Work Completed: '+ str(work_completed))\n",
    "        total_backlog.loc[i,tot_order[order%len(tot_order)]] = total_backlog.loc[i,tot_order[order%len(tot_order)]]-work_completed\n",
    "        if total_backlog.loc[i,tot_order[order%len(tot_order)]] < 0:\n",
    "            total_backlog.loc[i,tot_order[order%len(tot_order)]] = 0\n",
    "        order = order+1\n",
    "        #print('Backlog after work completed in '+ str(tot_order[weekday])+ ' on ' + str(total_backlog.loc[i,'Date']) + ': ' + str(total_backlog.loc[i,tot_order[weekday]]))\n",
    "total_backlog['Total'] = total_backlog['NE']+total_backlog['SE']+total_backlog['SW']+total_backlog['NW']"
   ]
  },
  {
   "cell_type": "code",
   "execution_count": 80,
   "metadata": {},
   "outputs": [
    {
     "data": {
      "image/png": "[encoded data removed]",
      "text/plain": [
       "<Figure size 432x288 with 1 Axes>"
      ]
     },
     "metadata": {
      "needs_background": "light"
     },
     "output_type": "display_data"
    }
   ],
   "source": [
    "fig = plt.figure()\n",
    "ax = plt.subplot(111)\n",
    "\n",
    "for i in ['SE','NE','SW','NW','Total']:\n",
    "    if i == 'Total':\n",
    "        ax.plot(total_backlog['Date'],total_backlog[i])\n",
    "    else:\n",
    "        ax.plot(total_backlog['Date'],total_backlog[i],alpha = .5)\n",
    "\n",
    "# Shrink current axis by 20%\n",
    "box = ax.get_position()\n",
    "ax.set_position([box.x0, box.y0, box.width * 0.8, box.height])\n",
    "plt.title(\"Backlog Size- 'One quad a day' System\")\n",
    "plt.ylabel(\"Backlog Size\")\n",
    "plt.xlabel(\"Date\")\n",
    "plt.xticks(rotation=45) \n",
    "\n",
    "# Put a legend to the right of the current axis\n",
    "ax.legend(['SE','NE','SW','NW','Total'],title= 'Quadrant',loc='center left', bbox_to_anchor=(1, 0.5))\n",
    "\n",
    "plt.show()"
   ]
  },
  {
   "cell_type": "markdown",
   "metadata": {},
   "source": [
    "### Put people where the work is"
   ]
  },
  {
   "cell_type": "code",
   "execution_count": 30,
   "metadata": {},
   "outputs": [],
   "source": [
    "dist_backlog = pd.DataFrame(dates)\n",
    "dist_backlog.columns = ['Date']\n",
    "dist_backlog['NE'], dist_backlog['NW'],dist_backlog['SE'],dist_backlog['SW'], dist_backlog['Total']= np.nan,np.nan,np.nan,np.nan,np.nan\n",
    "dist_backlog.loc[0,'NE'] = data_quad.loc[data_quad['quad']=='NE','backlog'].values\n",
    "dist_backlog.loc[0,'NW'] = data_quad.loc[data_quad['quad']=='NW','backlog'].values\n",
    "dist_backlog.loc[0,'SE'] = data_quad.loc[data_quad['quad']=='SE','backlog'].values\n",
    "dist_backlog.loc[0,'SW'] = data_quad.loc[data_quad['quad']=='SW','backlog'].values\n",
    "dist_backlog['Total'] = dist_backlog['NE']+dist_backlog['SE']+dist_backlog['SW']+dist_backlog['NW']\n",
    "add_wo = 1\n",
    "for i in range(1,len(dist_backlog)):\n",
    "    crews_av = 0 \n",
    "    for j in quads:\n",
    "        crews_av= crews_av + sum(absence(data_quad.loc[data_quad['quad']==j,'absence_rate'].values,data_quad.loc[data_quad['quad']==j,'crew_size'].values))\n",
    "    #print('Crews Available: ' + str(crews_av))\n",
    "    day_dist = round((dist_backlog.iloc[i-1,1:5]/dist_backlog.loc[i-1,'Total'] * crews_av).astype(np.double))\n",
    "    #print('Crew Distribution: ' + str(day_dist))\n",
    "    for j in quads:\n",
    "        work_completed = day_dist[j]*data_quad.loc[data_quad['quad']==j,'rate'].values*data_quad.loc[data_quad['quad']==j,'worksite_diff'].values\n",
    "        #print('Completed Work in ' +str(j)+' : ' + str(work_completed))\n",
    "        if add_wo == 1:\n",
    "            work_created = wo_creation(dist_backlog.loc[i,'Date'],j)\n",
    "        elif add_wo == 0:\n",
    "            work_created = 0\n",
    "        #print('Work Created in ' + str(j) +': '+ str(work_created))\n",
    "        if quad_backlog.loc[i,'Date'].weekday() < working_days:\n",
    "            dist_backlog.loc[i,j] = dist_backlog.loc[i-1,j]+work_created-work_completed\n",
    "            if dist_backlog.loc[i,j] < 0:\n",
    "                dist_backlog.loc[i,j] = 0\n",
    "        else:\n",
    "            dist_backlog.loc[i,j] = dist_backlog.loc[i-1,j]+work_created\n",
    "    dist_backlog.loc[i,'Total'] = dist_backlog.loc[i,'NE']+dist_backlog.loc[i,'SE']+dist_backlog.loc[i,'SW']+dist_backlog.loc[i,'NW']\n",
    "    #print(dist_backlog.loc[i,:])\n",
    "#dist_backlog.head()"
   ]
  },
  {
   "cell_type": "code",
   "execution_count": 31,
   "metadata": {},
   "outputs": [
    {
     "data": {
      "image/png": "[encoded data removed]",
      "text/plain": [
       "<Figure size 432x288 with 1 Axes>"
      ]
     },
     "metadata": {
      "needs_background": "light"
     },
     "output_type": "display_data"
    }
   ],
   "source": [
    "fig = plt.figure()\n",
    "ax = plt.subplot(111)\n",
    "\n",
    "for i in ['SE','NE','SW','NW','Total']:\n",
    "    if i == 'Total':\n",
    "        ax.plot(dist_backlog['Date'],dist_backlog[i])\n",
    "    else:\n",
    "        ax.plot(dist_backlog['Date'],dist_backlog[i],alpha = .5)\n",
    "\n",
    "# Shrink current axis by 20%\n",
    "box = ax.get_position()\n",
    "ax.set_position([box.x0, box.y0, box.width * 0.8, box.height])\n",
    "plt.title(\"Backlog Size- 'Where the work is' System\")\n",
    "plt.ylabel(\"Backlog Size\")\n",
    "plt.xlabel(\"Date\")\n",
    "plt.xticks(rotation=45) \n",
    "\n",
    "# Put a legend to the right of the current axis\n",
    "ax.legend(['SE','NE','SW','NW','Total'],title= 'Quadrant',loc='center left', bbox_to_anchor=(1, 0.5))\n",
    "\n",
    "plt.show()"
   ]
  },
  {
   "cell_type": "markdown",
   "metadata": {},
   "source": [
    "# Ignore"
   ]
  },
  {
   "cell_type": "code",
   "execution_count": 193,
   "metadata": {
    "collapsed": true
   },
   "outputs": [
    {
     "data": {
      "text/plain": [
       "datetime.date"
      ]
     },
     "execution_count": 193,
     "metadata": {},
     "output_type": "execute_result"
    }
   ],
   "source": [
    "wo_2019 = pd.read_sql('''\n",
    "select  [Record ID], \n",
    "\t\tcast([Date Create] as DATE) as Date_Create,\n",
    "        cast([Date Finish] as DATE) as Date_Finish,\n",
    "        [Status],\n",
    "\t\t[Clean Size],\n",
    "\tcase when [Solid Waste Quadrant] = 'NORTHEAST' THEN 'NE'\n",
    "\t\tWHEN [Solid Waste Quadrant] = 'NORTHWEST' THEN 'NW'\n",
    "\t\tWHEN [Solid Waste Quadrant] = 'SOUTHEAST' THEN 'SE'\n",
    "\t\tWHEN [Solid Waste Quadrant] = 'SOUTHWEST' THEN 'SW'\n",
    "\t\tEND AS\tQuadrant\n",
    "from CitiStat.dbo.CHIP_WorkOrders\n",
    "where 1=1\n",
    "and [Work Order Type]='Cleaning'\n",
    "and [Date Create] between '2018-01-01' and '2020-01-01'\n",
    "--and [Solid Waste Quadrant] in ('NORTHEAST','SOUTHEAST','SOUTHWEST','NORTHWEST')\n",
    "''',conn)\n",
    "\n",
    "#wo_2019 = pd.concat([chip_wo_red,cw_wo_red],ignore_index=True)\n",
    "wo_2019 = wo_2019.drop(wo_2019[wo_2019['Quadrant'].isna()].index)\n",
    "wo_2019 = wo_2019.drop(wo_2019[wo_2019['Status'].isna()].index)\n",
    "wo_2019 = wo_2019.drop(wo_2019[wo_2019['Date_Create'].isna()].index)\n",
    "#wo_2019 = wo_2019.drop(wo_2019[wo_2019['Date_Create']>'2019-12-31'].index)\n",
    "#wo_2019['Quadrant'] = wo_2019['Quadrant'].replace(['NW','NE','SW','SE','Downtown'],['NORTHWEST','NORTHEAST','SOUTHWEST','SOUTHEAST','CENTRAL'])\n",
    "#wo_2019['VRI_Focus_Area'] = wo_2019['VRI_Focus_Area'].fillna('Other')\n",
    "#wo_2019 = wo_2019.drop(wo_2019[wo_2019['Quadrant']=='CENTRAL'].index)\n",
    "#wo_2019['Date_Create'] = wo_2019['Date_Create'].apply(textstr2date)\n",
    "#wo_2019['Date_Finish'] = wo_2019['Date_Finish'].apply(textstr2date)\n",
    "#wo_2019['Year'] = pd.DatetimeIndex(wo_2019['Date_Finish']).year\n",
    "#wo_2019['Month'] = pd.DatetimeIndex(wo_2019['Date_Finish']).month\n",
    "#wo_2019['Date'] = pd.to_datetime(wo_2019[['Year', 'Month']].assign(DAY=1))\n",
    "wo_2019['Date_Create'] = pd.to_datetime(wo_2019['Date_Create']).dt.date\n",
    "wo_2019['Date_Finish'] = pd.to_datetime(wo_2019['Date_Finish']).dt.date\n",
    "#wo_2019.loc[:,'Due_date'] = wo_2019[\"Date_Create\"].apply(due_date,args=(42,))\n",
    "#wo_2019['Date_Create'] = \n",
    "wo_2019 = wo_2019.reset_index()\n",
    "\n",
    "type(wo_2019.loc[1,'Date_Create'])"
   ]
  },
  {
   "cell_type": "code",
   "execution_count": 205,
   "metadata": {},
   "outputs": [],
   "source": [
    "df_clean = pd.DataFrame({'count' : wo_2019.groupby(['Date_Finish']).size()}).reset_index()\n",
    "df_clean.columns = ['Date','WO_Count']\n",
    "for j in range(len(df_clean)):\n",
    "    df_clean.loc[j,'Date'] = add_years(df_clean.loc[j,'Date'],1)\n",
    "    df_clean.loc[j,'Open_WO'] = oopen(wo_2019,df_clean.loc[j,'Date'])\n",
    "    #df_clean.loc[j,'overdue_WO'] = oover(wo_2019,str(df_clean.loc[j,'Date']))\n",
    "    #df_clean.loc[j,'percent_over'] = df_clean.loc[j,'overdue_WO']/df_clean.loc[j,'Open_WO']\n",
    "#df_clean['percent_overdue'] = df_clean['overdue_WO']/df_clean['Open_WO']\n",
    "\n"
   ]
  },
  {
   "cell_type": "code",
   "execution_count": 211,
   "metadata": {},
   "outputs": [
    {
     "data": {
      "text/html": [
       "<div>\n",
       "<style scoped>\n",
       "    .dataframe tbody tr th:only-of-type {\n",
       "        vertical-align: middle;\n",
       "    }\n",
       "\n",
       "    .dataframe tbody tr th {\n",
       "        vertical-align: top;\n",
       "    }\n",
       "\n",
       "    .dataframe thead th {\n",
       "        text-align: right;\n",
       "    }\n",
       "</style>\n",
       "<table border=\"1\" class=\"dataframe\">\n",
       "  <thead>\n",
       "    <tr style=\"text-align: right;\">\n",
       "      <th></th>\n",
       "      <th>Date</th>\n",
       "      <th>WO_Count</th>\n",
       "      <th>Open_WO</th>\n",
       "    </tr>\n",
       "  </thead>\n",
       "  <tbody>\n",
       "    <tr>\n",
       "      <td>630</td>\n",
       "      <td>2021-01-18</td>\n",
       "      <td>1</td>\n",
       "      <td>2280.0</td>\n",
       "    </tr>\n",
       "    <tr>\n",
       "      <td>631</td>\n",
       "      <td>2021-01-20</td>\n",
       "      <td>42</td>\n",
       "      <td>2280.0</td>\n",
       "    </tr>\n",
       "    <tr>\n",
       "      <td>632</td>\n",
       "      <td>2021-01-21</td>\n",
       "      <td>82</td>\n",
       "      <td>2280.0</td>\n",
       "    </tr>\n",
       "    <tr>\n",
       "      <td>633</td>\n",
       "      <td>2021-01-22</td>\n",
       "      <td>81</td>\n",
       "      <td>2280.0</td>\n",
       "    </tr>\n",
       "    <tr>\n",
       "      <td>634</td>\n",
       "      <td>2021-01-23</td>\n",
       "      <td>51</td>\n",
       "      <td>2280.0</td>\n",
       "    </tr>\n",
       "  </tbody>\n",
       "</table>\n",
       "</div>"
      ],
      "text/plain": [
       "           Date  WO_Count  Open_WO\n",
       "630  2021-01-18         1   2280.0\n",
       "631  2021-01-20        42   2280.0\n",
       "632  2021-01-21        82   2280.0\n",
       "633  2021-01-22        81   2280.0\n",
       "634  2021-01-23        51   2280.0"
      ]
     },
     "execution_count": 211,
     "metadata": {},
     "output_type": "execute_result"
    }
   ],
   "source": [
    "#df_clean['Date'] = df_clean['Date'])\n",
    "test = df_clean\n",
    "test.loc[:,'Date'] = test.loc[:,'Date'].apply(str)\n",
    "#wo_2019['Date_Finish'] = wo_2019['Date_Finish'].apply(str)\n",
    "test.tail()"
   ]
  },
  {
   "cell_type": "code",
   "execution_count": 210,
   "metadata": {},
   "outputs": [
    {
     "data": {
      "text/plain": [
       "[<matplotlib.lines.Line2D at 0x26659511bc8>]"
      ]
     },
     "execution_count": 210,
     "metadata": {},
     "output_type": "execute_result"
    },
    {
     "data": {
      "image/png": "[encoded data removed]",
      "text/plain": [
       "<Figure size 432x288 with 1 Axes>"
      ]
     },
     "metadata": {
      "needs_background": "light"
     },
     "output_type": "display_data"
    }
   ],
   "source": [
    "plt.plot(test.loc[test['Date']>'2020-01-01','Date'],test.loc[test['Date']>'2020-01-01','Open_WO'])"
   ]
  }
 ],
 "metadata": {
  "kernelspec": {
   "display_name": "Python 3",
   "language": "python",
   "name": "python3"
  },
  "language_info": {
   "codemirror_mode": {
    "name": "ipython",
    "version": 3
   },
   "file_extension": ".py",
   "mimetype": "text/x-python",
   "name": "python",
   "nbconvert_exporter": "python",
   "pygments_lexer": "ipython3",
   "version": "3.7.4"
  }
 },
 "nbformat": 4,
 "nbformat_minor": 2
}
